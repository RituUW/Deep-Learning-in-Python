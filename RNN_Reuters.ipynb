{
  "nbformat": 4,
  "nbformat_minor": 0,
  "metadata": {
    "colab": {
      "name": "RNN_Reuters.ipynb",
      "provenance": [],
      "collapsed_sections": []
    },
    "kernelspec": {
      "display_name": "Python 3",
      "name": "python3"
    },
    "accelerator": "GPU"
  },
  "cells": [
    {
      "cell_type": "markdown",
      "metadata": {
        "id": "r2fyLhUMQlyH"
      },
      "source": [
        "# RNN to Classify Reuters Topics\n",
        "\n",
        "Train a recurrent neural network to Classify Reuters newswires into 46 Topics.\n",
        "\n",
        "Dataset of 11,228 newswires from Reuters, labeled over 46 topics. As with the IMDB dataset, each wire is encoded as a sequence of word indexes (same conventions)."
      ]
    },
    {
      "cell_type": "code",
      "metadata": {
        "colab": {
          "base_uri": "https://localhost:8080/"
        },
        "id": "r3Y8ZHFGR1uq",
        "outputId": "9d59a030-3108-4b51-b67c-f5381baa5b21"
      },
      "source": [
        "%tensorflow_version 1.14\n",
        "#pip install tensorflow-gpu==2.0.0 \n",
        "%matplotlib inline\n",
        "import warnings\n",
        "warnings.filterwarnings('ignore')\n",
        "\n",
        "import tensorflow as tf\n",
        "#tf.logging.set_verbosity(tf.logging.ERROR)\n",
        "tf.random.set_random_seed(1)\n",
        "\n",
        "\n",
        "from __future__ import print_function\n",
        "\n",
        "import numpy as np\n",
        "import keras\n",
        "keras.__version__\n",
        "\n",
        "!pip install numpy==1.16.1"
      ],
      "execution_count": null,
      "outputs": [
        {
          "output_type": "stream",
          "text": [
            "`%tensorflow_version` only switches the major version: 1.x or 2.x.\n",
            "You set: `1.14`. This will be interpreted as: `1.x`.\n",
            "\n",
            "\n",
            "TensorFlow is already loaded. Please restart the runtime to change versions.\n",
            "Requirement already satisfied: numpy==1.16.1 in /usr/local/lib/python3.7/dist-packages (1.16.1)\n"
          ],
          "name": "stdout"
        }
      ]
    },
    {
      "cell_type": "markdown",
      "metadata": {
        "id": "Uvtq164jRPNz"
      },
      "source": [
        "## Load Reuters Dataset\n",
        "\n",
        "First let's load the Reuters dataset. Please refer to [this API page](https://keras.io/datasets/#reuters-newswire-topics-classification) for details on how to load the data."
      ]
    },
    {
      "cell_type": "code",
      "metadata": {
        "colab": {
          "base_uri": "https://localhost:8080/"
        },
        "id": "Mbt21X3mQjZw",
        "outputId": "9ce4595d-e6bf-409c-878e-275f1ecea48f"
      },
      "source": [
        "from keras.datasets import reuters\n",
        "from keras.models import Sequential\n",
        "from keras import preprocessing\n",
        "from keras.layers import Dense, Dropout, Activation\n",
        "from keras.preprocessing.text import Tokenizer\n",
        "\n",
        "max_words = 10000\n",
        "\n",
        "print('Loading data...')\n",
        "(x_train, y_train), (x_test, y_test) = reuters.load_data(num_words=max_words, test_split=0.2)\n",
        "word_index = reuters.get_word_index(path=\"reuters_word_index.json\")"
      ],
      "execution_count": null,
      "outputs": [
        {
          "output_type": "stream",
          "text": [
            "Loading data...\n",
            "Downloading data from https://s3.amazonaws.com/text-datasets/reuters.npz\n",
            "2113536/2110848 [==============================] - 0s 0us/step\n",
            "Downloading data from https://s3.amazonaws.com/text-datasets/reuters_word_index.json\n",
            "557056/550378 [==============================] - 0s 1us/step\n"
          ],
          "name": "stdout"
        }
      ]
    },
    {
      "cell_type": "code",
      "metadata": {
        "colab": {
          "base_uri": "https://localhost:8080/"
        },
        "id": "VNjMEmwYXQWQ",
        "outputId": "00bf2c36-0af1-475a-c4a8-2e2681df2662"
      },
      "source": [
        "#word_index\n",
        "vocab_size=len(word_index)+1\n",
        "vocab_size"
      ],
      "execution_count": null,
      "outputs": [
        {
          "output_type": "execute_result",
          "data": {
            "text/plain": [
              "30980"
            ]
          },
          "metadata": {
            "tags": []
          },
          "execution_count": 15
        }
      ]
    },
    {
      "cell_type": "code",
      "metadata": {
        "colab": {
          "base_uri": "https://localhost:8080/"
        },
        "id": "A0249Fd_HJw9",
        "outputId": "8f63fbd5-9df7-4cca-eb21-d43e0f7ca6ac"
      },
      "source": [
        "# Cut texts after this number of words \n",
        "maxlen = 500\n",
        "\n",
        "from keras.preprocessing import sequence\n",
        "\n",
        "print(len(x_train), 'train sequences')\n",
        "print(len(x_test), 'test sequences')\n",
        "# This turns our lists of integers into a 2D integer tensor of shape `(samples, maxlen)`\n",
        "print('Pad sequences (samples x time)')\n",
        "x_train = sequence.pad_sequences(x_train, maxlen=maxlen)\n",
        "x_test = sequence.pad_sequences(x_test, maxlen=maxlen)\n",
        "print('input_train shape:', x_train.shape)\n",
        "print('input_test shape:', x_test.shape)"
      ],
      "execution_count": null,
      "outputs": [
        {
          "output_type": "stream",
          "text": [
            "8982 train sequences\n",
            "2246 test sequences\n",
            "Pad sequences (samples x time)\n",
            "input_train shape: (8982, 500)\n",
            "input_test shape: (2246, 500)\n"
          ],
          "name": "stdout"
        }
      ]
    },
    {
      "cell_type": "code",
      "metadata": {
        "colab": {
          "base_uri": "https://localhost:8080/"
        },
        "id": "eKUybv3vgpqz",
        "outputId": "19556e54-bb02-4edb-b876-cc00f870fd20"
      },
      "source": [
        "#Use \"one-hot\" encoding to vectorize the labels.\n",
        "from keras.utils.np_utils import to_categorical\n",
        "\n",
        "one_hot_train_labels = to_categorical(y_train)\n",
        "one_hot_test_labels = to_categorical(y_test)\n",
        "one_hot_train_labels[1]"
      ],
      "execution_count": null,
      "outputs": [
        {
          "output_type": "execute_result",
          "data": {
            "text/plain": [
              "array([0., 0., 0., 0., 1., 0., 0., 0., 0., 0., 0., 0., 0., 0., 0., 0., 0.,\n",
              "       0., 0., 0., 0., 0., 0., 0., 0., 0., 0., 0., 0., 0., 0., 0., 0., 0.,\n",
              "       0., 0., 0., 0., 0., 0., 0., 0., 0., 0., 0., 0.], dtype=float32)"
            ]
          },
          "metadata": {
            "tags": []
          },
          "execution_count": 19
        }
      ]
    },
    {
      "cell_type": "code",
      "metadata": {
        "id": "VpnkI8TELtOR",
        "colab": {
          "base_uri": "https://localhost:8080/"
        },
        "outputId": "cbd0eac1-1afa-4528-eaa1-c5396f4296c9"
      },
      "source": [
        "# Convert encoded review to words\n",
        "from tensorflow import keras\n",
        "INDEX_FROM=3   # word index offset\n",
        "\n",
        "word_to_id = keras.datasets.reuters.get_word_index()\n",
        "word_to_id = {k:(v+INDEX_FROM) for k,v in word_to_id.items()}\n",
        "word_to_id['<PAD>'] = 0\n",
        "word_to_id['<START>'] = 1\n",
        "word_to_id['<UNK>'] = 2\n",
        "\n",
        "id_to_word = {value:key for key,value in word_to_id.items()}\n",
        "\n",
        "#x_train[0]\n",
        "print(' '.join(id_to_word[id] for id in x_train[0] ))"
      ],
      "execution_count": null,
      "outputs": [
        {
          "output_type": "stream",
          "text": [
            "<PAD> <PAD> <PAD> <PAD> <PAD> <PAD> <PAD> <PAD> <PAD> <PAD> <PAD> <PAD> <PAD> <PAD> <PAD> <PAD> <PAD> <PAD> <PAD> <PAD> <PAD> <PAD> <PAD> <PAD> <PAD> <PAD> <PAD> <PAD> <PAD> <PAD> <PAD> <PAD> <PAD> <PAD> <PAD> <PAD> <PAD> <PAD> <PAD> <PAD> <PAD> <PAD> <PAD> <PAD> <PAD> <PAD> <PAD> <PAD> <PAD> <PAD> <PAD> <PAD> <PAD> <PAD> <PAD> <PAD> <PAD> <PAD> <PAD> <PAD> <PAD> <PAD> <PAD> <PAD> <PAD> <PAD> <PAD> <PAD> <PAD> <PAD> <PAD> <PAD> <PAD> <PAD> <PAD> <PAD> <PAD> <PAD> <PAD> <PAD> <PAD> <PAD> <PAD> <PAD> <PAD> <PAD> <PAD> <PAD> <PAD> <PAD> <PAD> <PAD> <PAD> <PAD> <PAD> <PAD> <PAD> <PAD> <PAD> <PAD> <PAD> <PAD> <PAD> <PAD> <PAD> <PAD> <PAD> <PAD> <PAD> <PAD> <PAD> <PAD> <PAD> <PAD> <PAD> <PAD> <PAD> <PAD> <PAD> <PAD> <PAD> <PAD> <PAD> <PAD> <PAD> <PAD> <PAD> <PAD> <PAD> <PAD> <PAD> <PAD> <PAD> <PAD> <PAD> <PAD> <PAD> <PAD> <PAD> <PAD> <PAD> <PAD> <PAD> <PAD> <PAD> <PAD> <PAD> <PAD> <PAD> <PAD> <PAD> <PAD> <PAD> <PAD> <PAD> <PAD> <PAD> <PAD> <PAD> <PAD> <PAD> <PAD> <PAD> <PAD> <PAD> <PAD> <PAD> <PAD> <PAD> <PAD> <PAD> <PAD> <PAD> <PAD> <PAD> <PAD> <PAD> <PAD> <PAD> <PAD> <PAD> <PAD> <PAD> <PAD> <PAD> <PAD> <PAD> <PAD> <PAD> <PAD> <PAD> <PAD> <PAD> <PAD> <PAD> <PAD> <PAD> <PAD> <PAD> <PAD> <PAD> <PAD> <PAD> <PAD> <PAD> <PAD> <PAD> <PAD> <PAD> <PAD> <PAD> <PAD> <PAD> <PAD> <PAD> <PAD> <PAD> <PAD> <PAD> <PAD> <PAD> <PAD> <PAD> <PAD> <PAD> <PAD> <PAD> <PAD> <PAD> <PAD> <PAD> <PAD> <PAD> <PAD> <PAD> <PAD> <PAD> <PAD> <PAD> <PAD> <PAD> <PAD> <PAD> <PAD> <PAD> <PAD> <PAD> <PAD> <PAD> <PAD> <PAD> <PAD> <PAD> <PAD> <PAD> <PAD> <PAD> <PAD> <PAD> <PAD> <PAD> <PAD> <PAD> <PAD> <PAD> <PAD> <PAD> <PAD> <PAD> <PAD> <PAD> <PAD> <PAD> <PAD> <PAD> <PAD> <PAD> <PAD> <PAD> <PAD> <PAD> <PAD> <PAD> <PAD> <PAD> <PAD> <PAD> <PAD> <PAD> <PAD> <PAD> <PAD> <PAD> <PAD> <PAD> <PAD> <PAD> <PAD> <PAD> <PAD> <PAD> <PAD> <PAD> <PAD> <PAD> <PAD> <PAD> <PAD> <PAD> <PAD> <PAD> <PAD> <PAD> <PAD> <PAD> <PAD> <PAD> <PAD> <PAD> <PAD> <PAD> <PAD> <PAD> <PAD> <PAD> <PAD> <PAD> <PAD> <PAD> <PAD> <PAD> <PAD> <PAD> <PAD> <PAD> <PAD> <PAD> <PAD> <PAD> <PAD> <PAD> <PAD> <PAD> <PAD> <PAD> <PAD> <PAD> <PAD> <PAD> <PAD> <PAD> <PAD> <PAD> <PAD> <PAD> <PAD> <PAD> <PAD> <PAD> <PAD> <PAD> <PAD> <PAD> <PAD> <PAD> <PAD> <PAD> <PAD> <PAD> <PAD> <PAD> <PAD> <PAD> <PAD> <PAD> <PAD> <PAD> <PAD> <PAD> <PAD> <PAD> <PAD> <PAD> <PAD> <PAD> <PAD> <PAD> <PAD> <PAD> <PAD> <PAD> <PAD> <PAD> <PAD> <PAD> <PAD> <PAD> <PAD> <PAD> <PAD> <PAD> <PAD> <PAD> <PAD> <PAD> <PAD> <PAD> <PAD> <PAD> <PAD> <PAD> <PAD> <PAD> <START> <UNK> <UNK> said as a result of its december acquisition of space co it expects earnings per share in 1987 of 1 15 to 1 30 dlrs per share up from 70 cts in 1986 the company said pretax net should rise to nine to 10 mln dlrs from six mln dlrs in 1986 and rental operation revenues to 19 to 22 mln dlrs from 12 5 mln dlrs it said cash flow per share this year should be 2 50 to three dlrs reuter 3\n"
          ],
          "name": "stdout"
        }
      ]
    },
    {
      "cell_type": "markdown",
      "metadata": {
        "id": "Qd7wneSMSTpS"
      },
      "source": [
        "## Fully Connected Neural Networks\n",
        "\n",
        "Use word embedding layer as well as fully connected layers to classify Reuters newwires."
      ]
    },
    {
      "cell_type": "code",
      "metadata": {
        "colab": {
          "base_uri": "https://localhost:8080/"
        },
        "id": "W7OPafLXRsnc",
        "outputId": "e2778c5d-99a1-49a7-b514-377c32c34850"
      },
      "source": [
        "# TODO\n",
        "from keras.models import Sequential\n",
        "from keras.layers import Flatten, Dense,Embedding\n",
        "from keras import layers\n",
        "\n",
        "model_FNN = Sequential()\n",
        "# Specify the maximum input length to our Embedding layer so we can later flatten the embedded inputs\n",
        "model_FNN.add(Embedding(10000, 32, input_length=maxlen))\n",
        "# After the Embedding layer, our activations have shape `(samples, maxlen, 32)`.\n",
        "\n",
        "# Flatten the 3D tensor of embeddings into a 2D tensor of shape `(samples, maxlen * 32)`\n",
        "model_FNN.add(Flatten())\n",
        "\n",
        "# We add the classifier on top\n",
        "model_FNN.add(layers.Dense(64, activation='relu', input_shape=(10000,)))\n",
        "model_FNN.add(layers.Dense(64, activation='relu'))\n",
        "model_FNN.add(Dense(46, activation='softmax'))\n",
        "model_FNN.compile(optimizer='rmsprop', loss='categorical_crossentropy', metrics=['acc'])\n",
        "model_FNN.summary()\n",
        "\n",
        "#Fit the model\n",
        "history_FNN = model_FNN.fit(\n",
        "    x_train, \n",
        "    one_hot_train_labels,\n",
        "    epochs=15,\n",
        "    batch_size=128,\n",
        "    validation_split=0.2\n",
        ")\n"
      ],
      "execution_count": null,
      "outputs": [
        {
          "output_type": "stream",
          "text": [
            "Model: \"sequential_2\"\n",
            "_________________________________________________________________\n",
            "Layer (type)                 Output Shape              Param #   \n",
            "=================================================================\n",
            "embedding_2 (Embedding)      (None, 500, 32)           320000    \n",
            "_________________________________________________________________\n",
            "flatten_2 (Flatten)          (None, 16000)             0         \n",
            "_________________________________________________________________\n",
            "dense_4 (Dense)              (None, 64)                1024064   \n",
            "_________________________________________________________________\n",
            "dense_5 (Dense)              (None, 64)                4160      \n",
            "_________________________________________________________________\n",
            "dense_6 (Dense)              (None, 46)                2990      \n",
            "=================================================================\n",
            "Total params: 1,351,214\n",
            "Trainable params: 1,351,214\n",
            "Non-trainable params: 0\n",
            "_________________________________________________________________\n",
            "Train on 7185 samples, validate on 1797 samples\n",
            "Epoch 1/15\n",
            "7185/7185 [==============================] - 0s 55us/step - loss: 2.3087 - acc: 0.3982 - val_loss: 1.9447 - val_acc: 0.4975\n",
            "Epoch 2/15\n",
            "7185/7185 [==============================] - 0s 38us/step - loss: 1.7192 - acc: 0.5567 - val_loss: 1.6841 - val_acc: 0.5609\n",
            "Epoch 3/15\n",
            "7185/7185 [==============================] - 0s 36us/step - loss: 1.3934 - acc: 0.6603 - val_loss: 1.6262 - val_acc: 0.5715\n",
            "Epoch 4/15\n",
            "7185/7185 [==============================] - 0s 35us/step - loss: 1.0973 - acc: 0.7372 - val_loss: 1.4125 - val_acc: 0.6533\n",
            "Epoch 5/15\n",
            "7185/7185 [==============================] - 0s 37us/step - loss: 0.8265 - acc: 0.8135 - val_loss: 1.4300 - val_acc: 0.6605\n",
            "Epoch 6/15\n",
            "7185/7185 [==============================] - 0s 37us/step - loss: 0.6111 - acc: 0.8650 - val_loss: 1.5724 - val_acc: 0.6511\n",
            "Epoch 7/15\n",
            "7185/7185 [==============================] - 0s 36us/step - loss: 0.4622 - acc: 0.9019 - val_loss: 1.4806 - val_acc: 0.6845\n",
            "Epoch 8/15\n",
            "7185/7185 [==============================] - 0s 35us/step - loss: 0.3497 - acc: 0.9258 - val_loss: 1.4130 - val_acc: 0.7023\n",
            "Epoch 9/15\n",
            "7185/7185 [==============================] - 0s 36us/step - loss: 0.2671 - acc: 0.9446 - val_loss: 1.5210 - val_acc: 0.6989\n",
            "Epoch 10/15\n",
            "7185/7185 [==============================] - 0s 37us/step - loss: 0.2163 - acc: 0.9552 - val_loss: 1.6489 - val_acc: 0.6861\n",
            "Epoch 11/15\n",
            "7185/7185 [==============================] - 0s 33us/step - loss: 0.1846 - acc: 0.9588 - val_loss: 1.5436 - val_acc: 0.6978\n",
            "Epoch 12/15\n",
            "7185/7185 [==============================] - 0s 33us/step - loss: 0.1679 - acc: 0.9592 - val_loss: 1.6320 - val_acc: 0.7017\n",
            "Epoch 13/15\n",
            "7185/7185 [==============================] - 0s 34us/step - loss: 0.1482 - acc: 0.9610 - val_loss: 1.7917 - val_acc: 0.6700\n",
            "Epoch 14/15\n",
            "7185/7185 [==============================] - 0s 33us/step - loss: 0.1368 - acc: 0.9617 - val_loss: 1.6151 - val_acc: 0.7017\n",
            "Epoch 15/15\n",
            "7185/7185 [==============================] - 0s 33us/step - loss: 0.1325 - acc: 0.9614 - val_loss: 1.7337 - val_acc: 0.7001\n"
          ],
          "name": "stdout"
        }
      ]
    },
    {
      "cell_type": "code",
      "metadata": {
        "colab": {
          "base_uri": "https://localhost:8080/",
          "height": 545
        },
        "id": "VR3oNCJLiOKe",
        "outputId": "96117427-1a72-470e-c018-7202f6da1ced"
      },
      "source": [
        "import matplotlib.pyplot as plt\n",
        "\n",
        "acc = history_FNN.history['acc']\n",
        "val_acc = history_FNN.history['val_acc']\n",
        "loss = history_FNN.history['loss']\n",
        "val_loss = history_FNN.history['val_loss']\n",
        "\n",
        "epochs = range(len(acc))\n",
        "\n",
        "plt.plot(epochs, acc, 'bo', label='Training acc')\n",
        "plt.plot(epochs, val_acc, 'b', label='Validation acc')\n",
        "plt.title('Training and validation accuracy')\n",
        "plt.legend()\n",
        "\n",
        "plt.figure()\n",
        "\n",
        "plt.plot(epochs, loss, 'bo', label='Training loss')\n",
        "plt.plot(epochs, val_loss, 'b', label='Validation loss')\n",
        "plt.title('Training and validation loss')\n",
        "plt.legend()\n",
        "\n",
        "plt.show()"
      ],
      "execution_count": null,
      "outputs": [
        {
          "output_type": "display_data",
          "data": {
            "image/png": "[encoded data removed]",
            "text/plain": [
              "<Figure size 432x288 with 1 Axes>"
            ]
          },
          "metadata": {
            "tags": [],
            "needs_background": "light"
          }
        },
        {
          "output_type": "display_data",
          "data": {
            "image/png": "[encoded data removed]",
            "text/plain": [
              "<Figure size 432x288 with 1 Axes>"
            ]
          },
          "metadata": {
            "tags": [],
            "needs_background": "light"
          }
        }
      ]
    },
    {
      "cell_type": "code",
      "metadata": {
        "colab": {
          "base_uri": "https://localhost:8080/"
        },
        "id": "WXn-mNUynhXg",
        "outputId": "4f7e9831-213b-4b3f-ddf9-2e6d8d8fd704"
      },
      "source": [
        "# changing epochs to 8 to avoid overfit\n",
        "from keras.models import Sequential\n",
        "from keras.layers import Flatten, Dense,Embedding\n",
        "\n",
        "model_FNN = Sequential()\n",
        "\n",
        "model_FNN.add(Embedding(10000, 32, input_length=maxlen))\n",
        "model_FNN.add(Flatten())\n",
        "model_FNN.add(layers.Dense(64, activation='relu', input_shape=(10000,)))\n",
        "model_FNN.add(layers.Dense(64, activation='relu'))\n",
        "model_FNN.add(Dense(46, activation='softmax'))\n",
        "model_FNN.compile(optimizer='rmsprop', loss='categorical_crossentropy', metrics=['acc'])\n",
        "model_FNN.summary()\n",
        "\n",
        "history_FNN = model_FNN.fit(\n",
        "    x_train, \n",
        "    one_hot_train_labels,\n",
        "    epochs=8,\n",
        "    batch_size=128,\n",
        "    validation_split=0.2\n",
        ")"
      ],
      "execution_count": null,
      "outputs": [
        {
          "output_type": "stream",
          "text": [
            "Model: \"sequential_3\"\n",
            "_________________________________________________________________\n",
            "Layer (type)                 Output Shape              Param #   \n",
            "=================================================================\n",
            "embedding_3 (Embedding)      (None, 500, 32)           320000    \n",
            "_________________________________________________________________\n",
            "flatten_3 (Flatten)          (None, 16000)             0         \n",
            "_________________________________________________________________\n",
            "dense_7 (Dense)              (None, 64)                1024064   \n",
            "_________________________________________________________________\n",
            "dense_8 (Dense)              (None, 64)                4160      \n",
            "_________________________________________________________________\n",
            "dense_9 (Dense)              (None, 46)                2990      \n",
            "=================================================================\n",
            "Total params: 1,351,214\n",
            "Trainable params: 1,351,214\n",
            "Non-trainable params: 0\n",
            "_________________________________________________________________\n",
            "Train on 7185 samples, validate on 1797 samples\n",
            "Epoch 1/8\n",
            "7185/7185 [==============================] - 1s 72us/step - loss: 2.2604 - acc: 0.4225 - val_loss: 1.9499 - val_acc: 0.4853\n",
            "Epoch 2/8\n",
            "7185/7185 [==============================] - 0s 41us/step - loss: 1.6997 - acc: 0.5569 - val_loss: 1.6325 - val_acc: 0.5882\n",
            "Epoch 3/8\n",
            "7185/7185 [==============================] - 0s 39us/step - loss: 1.3874 - acc: 0.6604 - val_loss: 1.5085 - val_acc: 0.6205\n",
            "Epoch 4/8\n",
            "7185/7185 [==============================] - 0s 37us/step - loss: 1.0924 - acc: 0.7339 - val_loss: 1.4893 - val_acc: 0.6299\n",
            "Epoch 5/8\n",
            "7185/7185 [==============================] - 0s 38us/step - loss: 0.8397 - acc: 0.8079 - val_loss: 1.4291 - val_acc: 0.6667\n",
            "Epoch 6/8\n",
            "7185/7185 [==============================] - 0s 37us/step - loss: 0.6378 - acc: 0.8565 - val_loss: 1.3874 - val_acc: 0.6945\n",
            "Epoch 7/8\n",
            "7185/7185 [==============================] - 0s 37us/step - loss: 0.4761 - acc: 0.8946 - val_loss: 1.4334 - val_acc: 0.6895\n",
            "Epoch 8/8\n",
            "7185/7185 [==============================] - 0s 34us/step - loss: 0.3584 - acc: 0.9240 - val_loss: 1.4163 - val_acc: 0.7056\n"
          ],
          "name": "stdout"
        }
      ]
    },
    {
      "cell_type": "markdown",
      "metadata": {
        "id": "yfbi3SsYn3bn"
      },
      "source": [
        "This model has achieved an accuracy of 70.56% on validation data and 92.40% on training data."
      ]
    },
    {
      "cell_type": "code",
      "metadata": {
        "colab": {
          "base_uri": "https://localhost:8080/"
        },
        "id": "VZljRkCQkbKW",
        "outputId": "5e800141-f0df-420e-f637-82f74644d9b7"
      },
      "source": [
        "#evaluate model on test set\n",
        "test_loss, test_acc=model_FNN.evaluate(x_test, one_hot_test_labels)\n",
        "print('Accuracy:', test_acc)"
      ],
      "execution_count": null,
      "outputs": [
        {
          "output_type": "stream",
          "text": [
            "2246/2246 [==============================] - 0s 63us/step\n",
            "Accuracy: 0.6865538954734802\n"
          ],
          "name": "stdout"
        }
      ]
    },
    {
      "cell_type": "markdown",
      "metadata": {
        "id": "Xq6MryLPld5n"
      },
      "source": [
        "Fully neural network is giving an accuracy of about 68.65% on test set.\n"
      ]
    },
    {
      "cell_type": "markdown",
      "metadata": {
        "id": "w9__yxAHUSrb"
      },
      "source": [
        "##RNN/LSTM\n",
        "Now, we have a fully connected neural networks trained for prediction topics in Reuters data. I will swap out the fully connect layers and replace with a more powerful RNN layers (LSTM, GRU) and experiment with different RNN layers to improve the model performance."
      ]
    },
    {
      "cell_type": "code",
      "metadata": {
        "colab": {
          "base_uri": "https://localhost:8080/"
        },
        "id": "tfZ9X38Vzxt0",
        "outputId": "e8d42ae1-b7e9-4ca1-8ddc-a0f803627101"
      },
      "source": [
        "#changing epochs to 9 as model starts to overfit after that\n",
        "from keras.models import Sequential\n",
        "from keras.layers import Dense, Embedding, SimpleRNN\n",
        "from keras import layers\n",
        "from keras import regularizers\n",
        "\n",
        "\n",
        "# build the model\n",
        "model_RNN = Sequential()\n",
        "model_RNN.add(Embedding(max_words, 32))\n",
        "#adding drop out layer\n",
        "model_RNN.add(layers.Dropout(0.5))\n",
        "model_RNN.add(SimpleRNN(32, return_sequences=True))\n",
        "model_RNN.add(SimpleRNN(32, return_sequences=True))\n",
        "model_RNN.add(SimpleRNN(32, return_sequences=True))\n",
        "#adding regularizer\n",
        "model_RNN.add(SimpleRNN(32,kernel_regularizer=regularizers.l2(0.001)))\n",
        "model_RNN.add(layers.Dropout(0.5))\n",
        "model_RNN.add(Dense(46, activation='softmax'))\n",
        "\n",
        "# complie the model\n",
        "model_RNN.compile(optimizer='rmsprop', loss='categorical_crossentropy', metrics=['acc'])\n",
        "model_RNN.summary()\n",
        "\n",
        "# fit the model\n",
        "history_RNN = model_RNN.fit(\n",
        "    x_train, \n",
        "    one_hot_train_labels,\n",
        "    epochs=9,\n",
        "    batch_size=256,\n",
        "    validation_split=0.2\n",
        ")"
      ],
      "execution_count": null,
      "outputs": [
        {
          "output_type": "stream",
          "text": [
            "Model: \"sequential_4\"\n",
            "_________________________________________________________________\n",
            "Layer (type)                 Output Shape              Param #   \n",
            "=================================================================\n",
            "embedding_4 (Embedding)      (None, None, 32)          320000    \n",
            "_________________________________________________________________\n",
            "dropout_1 (Dropout)          (None, None, 32)          0         \n",
            "_________________________________________________________________\n",
            "simple_rnn_1 (SimpleRNN)     (None, None, 32)          2080      \n",
            "_________________________________________________________________\n",
            "simple_rnn_2 (SimpleRNN)     (None, None, 32)          2080      \n",
            "_________________________________________________________________\n",
            "simple_rnn_3 (SimpleRNN)     (None, None, 32)          2080      \n",
            "_________________________________________________________________\n",
            "simple_rnn_4 (SimpleRNN)     (None, 32)                2080      \n",
            "_________________________________________________________________\n",
            "dropout_2 (Dropout)          (None, 32)                0         \n",
            "_________________________________________________________________\n",
            "dense_10 (Dense)             (None, 46)                1518      \n",
            "=================================================================\n",
            "Total params: 329,838\n",
            "Trainable params: 329,838\n",
            "Non-trainable params: 0\n",
            "_________________________________________________________________\n",
            "Train on 7185 samples, validate on 1797 samples\n",
            "Epoch 1/9\n",
            "7185/7185 [==============================] - 17s 2ms/step - loss: 3.1336 - acc: 0.2370 - val_loss: 2.5411 - val_acc: 0.3450\n",
            "Epoch 2/9\n",
            "7185/7185 [==============================] - 16s 2ms/step - loss: 2.6296 - acc: 0.3435 - val_loss: 2.3468 - val_acc: 0.3957\n",
            "Epoch 3/9\n",
            "7185/7185 [==============================] - 16s 2ms/step - loss: 2.4032 - acc: 0.4262 - val_loss: 2.7410 - val_acc: 0.3990\n",
            "Epoch 4/9\n",
            "7185/7185 [==============================] - 16s 2ms/step - loss: 2.2557 - acc: 0.4532 - val_loss: 2.0550 - val_acc: 0.4413\n",
            "Epoch 5/9\n",
            "7185/7185 [==============================] - 16s 2ms/step - loss: 2.1060 - acc: 0.4736 - val_loss: 2.3030 - val_acc: 0.3561\n",
            "Epoch 6/9\n",
            "7185/7185 [==============================] - 16s 2ms/step - loss: 2.0295 - acc: 0.4895 - val_loss: 1.9797 - val_acc: 0.5042\n",
            "Epoch 7/9\n",
            "7185/7185 [==============================] - 16s 2ms/step - loss: 1.9373 - acc: 0.5070 - val_loss: 1.8915 - val_acc: 0.4702\n",
            "Epoch 8/9\n",
            "7185/7185 [==============================] - 16s 2ms/step - loss: 1.8527 - acc: 0.5230 - val_loss: 2.0420 - val_acc: 0.4697\n",
            "Epoch 9/9\n",
            "7185/7185 [==============================] - 16s 2ms/step - loss: 1.7844 - acc: 0.5460 - val_loss: 1.9210 - val_acc: 0.5097\n"
          ],
          "name": "stdout"
        }
      ]
    },
    {
      "cell_type": "markdown",
      "metadata": {
        "id": "RGhFvDM8uzSY"
      },
      "source": [
        "Model has reached a validation accuracy of 50% and 54.6% on train data."
      ]
    },
    {
      "cell_type": "code",
      "metadata": {
        "colab": {
          "base_uri": "https://localhost:8080/",
          "height": 545
        },
        "id": "0LDX07yzza5R",
        "outputId": "8290cad9-4e24-4372-f1d1-b6aa5015434f"
      },
      "source": [
        "acc = history_RNN.history['acc']\n",
        "val_acc = history_RNN.history['val_acc']\n",
        "loss = history_RNN.history['loss']\n",
        "val_loss = history_RNN.history['val_loss']\n",
        "\n",
        "epochs = range(len(acc))\n",
        "\n",
        "plt.plot(epochs, acc, 'bo', label='Training acc')\n",
        "plt.plot(epochs, val_acc, 'b', label='Validation acc')\n",
        "plt.title('Training and validation accuracy')\n",
        "plt.legend()\n",
        "\n",
        "plt.figure()\n",
        "\n",
        "plt.plot(epochs, loss, 'bo', label='Training loss')\n",
        "plt.plot(epochs, val_loss, 'b', label='Validation loss')\n",
        "plt.title('Training and validation loss')\n",
        "plt.legend()\n",
        "\n",
        "plt.show()"
      ],
      "execution_count": null,
      "outputs": [
        {
          "output_type": "display_data",
          "data": {
            "image/png": "[encoded data removed]",
            "text/plain": [
              "<Figure size 432x288 with 1 Axes>"
            ]
          },
          "metadata": {
            "tags": [],
            "needs_background": "light"
          }
        },
        {
          "output_type": "display_data",
          "data": {
            "image/png": "[encoded data removed]",
            "text/plain": [
              "<Figure size 432x288 with 1 Axes>"
            ]
          },
          "metadata": {
            "tags": [],
            "needs_background": "light"
          }
        }
      ]
    },
    {
      "cell_type": "code",
      "metadata": {
        "colab": {
          "base_uri": "https://localhost:8080/"
        },
        "id": "mkx2u7K7nhJo",
        "outputId": "95fa1e06-173c-4607-b8ea-d93f3356f8d1"
      },
      "source": [
        "#evaluate model on test set\n",
        "test_loss, test_acc=model_RNN.evaluate(x_test, one_hot_test_labels)\n",
        "print('Accuracy:', test_acc)"
      ],
      "execution_count": null,
      "outputs": [
        {
          "output_type": "stream",
          "text": [
            "2246/2246 [==============================] - 7s 3ms/step\n",
            "Accuracy: 0.49777382612228394\n"
          ],
          "name": "stdout"
        }
      ]
    },
    {
      "cell_type": "markdown",
      "metadata": {
        "id": "IZynJ8hTnyr2"
      },
      "source": [
        "Our model has achived an accuracy of ~50% with simple RNN."
      ]
    },
    {
      "cell_type": "code",
      "metadata": {
        "colab": {
          "base_uri": "https://localhost:8080/"
        },
        "id": "7oBbkTXNT9DB",
        "outputId": "6efc092f-5600-47c4-97d9-182ea3be3724"
      },
      "source": [
        "# using LSTM\n",
        "\n",
        "from keras.models import Sequential\n",
        "from keras.layers import Dense, Embedding, SimpleRNN\n",
        "from keras.layers import LSTM\n",
        "\n",
        "model_LSTM = Sequential()\n",
        "model_LSTM.add(Embedding(max_words, 32))\n",
        "model_LSTM.add(layers.Dropout(0.5))\n",
        "model_LSTM.add(LSTM(32,return_sequences=True))\n",
        "model_LSTM.add(LSTM(32,return_sequences=True))\n",
        "model_LSTM.add(LSTM(32,return_sequences=True))\n",
        "model_LSTM.add(LSTM(32))\n",
        "model_LSTM.add(layers.Dropout(0.5))\n",
        "model_LSTM.add(Dense(46, activation='softmax'))\n",
        "\n",
        "model_LSTM.compile(optimizer='rmsprop', loss='categorical_crossentropy', metrics=['acc'])\n",
        "model_LSTM.summary()\n",
        "history_LSTM = model_LSTM.fit(\n",
        "    x_train, \n",
        "    one_hot_train_labels,\n",
        "    epochs=15,\n",
        "\n",
        "    batch_size=256,\n",
        "    validation_split=0.2\n",
        ")\n",
        "\n"
      ],
      "execution_count": null,
      "outputs": [
        {
          "output_type": "stream",
          "text": [
            "Model: \"sequential_7\"\n",
            "_________________________________________________________________\n",
            "Layer (type)                 Output Shape              Param #   \n",
            "=================================================================\n",
            "embedding_7 (Embedding)      (None, None, 32)          320000    \n",
            "_________________________________________________________________\n",
            "dropout_5 (Dropout)          (None, None, 32)          0         \n",
            "_________________________________________________________________\n",
            "lstm_9 (LSTM)                (None, None, 32)          8320      \n",
            "_________________________________________________________________\n",
            "lstm_10 (LSTM)               (None, None, 32)          8320      \n",
            "_________________________________________________________________\n",
            "lstm_11 (LSTM)               (None, None, 32)          8320      \n",
            "_________________________________________________________________\n",
            "lstm_12 (LSTM)               (None, 32)                8320      \n",
            "_________________________________________________________________\n",
            "dropout_6 (Dropout)          (None, 32)                0         \n",
            "_________________________________________________________________\n",
            "dense_13 (Dense)             (None, 46)                1518      \n",
            "=================================================================\n",
            "Total params: 354,798\n",
            "Trainable params: 354,798\n",
            "Non-trainable params: 0\n",
            "_________________________________________________________________\n",
            "Train on 7185 samples, validate on 1797 samples\n",
            "Epoch 1/15\n",
            "7185/7185 [==============================] - 35s 5ms/step - loss: 2.9600 - acc: 0.3222 - val_loss: 2.3410 - val_acc: 0.3556\n",
            "Epoch 2/15\n",
            "7185/7185 [==============================] - 34s 5ms/step - loss: 2.3171 - acc: 0.4051 - val_loss: 2.2432 - val_acc: 0.4541\n",
            "Epoch 3/15\n",
            "7185/7185 [==============================] - 34s 5ms/step - loss: 2.0534 - acc: 0.4689 - val_loss: 1.8579 - val_acc: 0.5259\n",
            "Epoch 4/15\n",
            "7185/7185 [==============================] - 34s 5ms/step - loss: 1.9382 - acc: 0.5137 - val_loss: 1.8157 - val_acc: 0.5298\n",
            "Epoch 5/15\n",
            "7185/7185 [==============================] - 34s 5ms/step - loss: 1.8420 - acc: 0.5275 - val_loss: 1.8996 - val_acc: 0.5320\n",
            "Epoch 6/15\n",
            "7185/7185 [==============================] - 34s 5ms/step - loss: 1.7951 - acc: 0.5365 - val_loss: 1.7186 - val_acc: 0.5459\n",
            "Epoch 7/15\n",
            "7185/7185 [==============================] - 34s 5ms/step - loss: 1.7462 - acc: 0.5428 - val_loss: 1.7693 - val_acc: 0.5270\n",
            "Epoch 8/15\n",
            "7185/7185 [==============================] - 34s 5ms/step - loss: 1.7263 - acc: 0.5385 - val_loss: 1.7343 - val_acc: 0.5387\n",
            "Epoch 9/15\n",
            "7185/7185 [==============================] - 34s 5ms/step - loss: 1.6981 - acc: 0.5478 - val_loss: 1.7071 - val_acc: 0.5537\n",
            "Epoch 10/15\n",
            "7185/7185 [==============================] - 34s 5ms/step - loss: 1.6647 - acc: 0.5585 - val_loss: 1.7453 - val_acc: 0.5520\n",
            "Epoch 11/15\n",
            "7185/7185 [==============================] - 34s 5ms/step - loss: 1.6716 - acc: 0.5577 - val_loss: 1.7028 - val_acc: 0.5554\n",
            "Epoch 12/15\n",
            "7185/7185 [==============================] - 34s 5ms/step - loss: 1.6152 - acc: 0.5663 - val_loss: 1.8618 - val_acc: 0.5198\n",
            "Epoch 13/15\n",
            "7185/7185 [==============================] - 34s 5ms/step - loss: 1.6060 - acc: 0.5666 - val_loss: 2.6860 - val_acc: 0.3645\n",
            "Epoch 14/15\n",
            "7185/7185 [==============================] - 34s 5ms/step - loss: 1.6140 - acc: 0.5621 - val_loss: 1.7066 - val_acc: 0.5331\n",
            "Epoch 15/15\n",
            "7185/7185 [==============================] - 34s 5ms/step - loss: 1.5752 - acc: 0.5745 - val_loss: 1.7468 - val_acc: 0.5582\n"
          ],
          "name": "stdout"
        }
      ]
    },
    {
      "cell_type": "code",
      "metadata": {
        "colab": {
          "base_uri": "https://localhost:8080/",
          "height": 545
        },
        "id": "SmaXyjd6zZnW",
        "outputId": "e6a66ded-2c14-413e-ee47-e7361936a573"
      },
      "source": [
        "acc = history_LSTM.history['acc']\n",
        "val_acc = history_LSTM.history['val_acc']\n",
        "loss = history_LSTM.history['loss']\n",
        "val_loss = history_LSTM.history['val_loss']\n",
        "\n",
        "epochs = range(len(acc))\n",
        "\n",
        "plt.plot(epochs, acc, 'bo', label='Training acc')\n",
        "plt.plot(epochs, val_acc, 'b', label='Validation acc')\n",
        "plt.title('Training and validation accuracy')\n",
        "plt.legend()\n",
        "\n",
        "plt.figure()\n",
        "\n",
        "plt.plot(epochs, loss, 'bo', label='Training loss')\n",
        "plt.plot(epochs, val_loss, 'b', label='Validation loss')\n",
        "plt.title('Training and validation loss')\n",
        "plt.legend()\n",
        "\n",
        "plt.show()"
      ],
      "execution_count": null,
      "outputs": [
        {
          "output_type": "display_data",
          "data": {
            "image/png": "[encoded data removed]",
            "text/plain": [
              "<Figure size 432x288 with 1 Axes>"
            ]
          },
          "metadata": {
            "tags": [],
            "needs_background": "light"
          }
        },
        {
          "output_type": "display_data",
          "data": {
            "image/png": "[encoded data removed]",
            "text/plain": [
              "<Figure size 432x288 with 1 Axes>"
            ]
          },
          "metadata": {
            "tags": [],
            "needs_background": "light"
          }
        }
      ]
    },
    {
      "cell_type": "code",
      "metadata": {
        "colab": {
          "base_uri": "https://localhost:8080/"
        },
        "id": "lT6gWHcSr6j0",
        "outputId": "d5d181f4-ea4d-46b6-a3fe-a4d95df62591"
      },
      "source": [
        "# final model\n",
        "# changing epochs to 9 to avoid overfit\n",
        "model_LSTM = Sequential()\n",
        "model_LSTM.add(Embedding(max_words, 32))\n",
        "model_LSTM.add(layers.Dropout(0.5))\n",
        "model_LSTM.add(LSTM(32,return_sequences=True))\n",
        "model_LSTM.add(LSTM(32,return_sequences=True))\n",
        "model_LSTM.add(LSTM(32,return_sequences=True))\n",
        "model_LSTM.add(LSTM(32))\n",
        "model_LSTM.add(layers.Dropout(0.5))\n",
        "model_LSTM.add(Dense(46, activation='softmax'))\n",
        "model_LSTM.compile(optimizer='rmsprop', loss='categorical_crossentropy', metrics=['acc'])\n",
        "model_LSTM.summary()\n",
        "history_LSTM = model_LSTM.fit(\n",
        "    x_train, \n",
        "    one_hot_train_labels,\n",
        "    epochs=9,\n",
        "batch_size=256,\n",
        "    validation_split=0.2\n",
        ")"
      ],
      "execution_count": null,
      "outputs": [
        {
          "output_type": "stream",
          "text": [
            "Model: \"sequential_8\"\n",
            "_________________________________________________________________\n",
            "Layer (type)                 Output Shape              Param #   \n",
            "=================================================================\n",
            "embedding_8 (Embedding)      (None, None, 32)          320000    \n",
            "_________________________________________________________________\n",
            "dropout_7 (Dropout)          (None, None, 32)          0         \n",
            "_________________________________________________________________\n",
            "lstm_13 (LSTM)               (None, None, 32)          8320      \n",
            "_________________________________________________________________\n",
            "lstm_14 (LSTM)               (None, None, 32)          8320      \n",
            "_________________________________________________________________\n",
            "lstm_15 (LSTM)               (None, None, 32)          8320      \n",
            "_________________________________________________________________\n",
            "lstm_16 (LSTM)               (None, 32)                8320      \n",
            "_________________________________________________________________\n",
            "dropout_8 (Dropout)          (None, 32)                0         \n",
            "_________________________________________________________________\n",
            "dense_14 (Dense)             (None, 46)                1518      \n",
            "=================================================================\n",
            "Total params: 354,798\n",
            "Trainable params: 354,798\n",
            "Non-trainable params: 0\n",
            "_________________________________________________________________\n",
            "Train on 7185 samples, validate on 1797 samples\n",
            "Epoch 1/9\n",
            "7185/7185 [==============================] - 36s 5ms/step - loss: 2.8866 - acc: 0.3098 - val_loss: 2.3373 - val_acc: 0.3450\n",
            "Epoch 2/9\n",
            "7185/7185 [==============================] - 34s 5ms/step - loss: 2.3083 - acc: 0.3808 - val_loss: 2.1427 - val_acc: 0.4157\n",
            "Epoch 3/9\n",
            "7185/7185 [==============================] - 34s 5ms/step - loss: 2.0551 - acc: 0.4468 - val_loss: 1.9767 - val_acc: 0.4457\n",
            "Epoch 4/9\n",
            "7185/7185 [==============================] - 34s 5ms/step - loss: 1.9216 - acc: 0.4914 - val_loss: 1.7993 - val_acc: 0.5142\n",
            "Epoch 5/9\n",
            "7185/7185 [==============================] - 34s 5ms/step - loss: 1.8365 - acc: 0.5127 - val_loss: 1.7840 - val_acc: 0.5504\n",
            "Epoch 6/9\n",
            "7185/7185 [==============================] - 34s 5ms/step - loss: 1.7780 - acc: 0.5317 - val_loss: 1.8300 - val_acc: 0.4969\n",
            "Epoch 7/9\n",
            "7185/7185 [==============================] - 34s 5ms/step - loss: 1.7569 - acc: 0.5219 - val_loss: 1.7477 - val_acc: 0.5353\n",
            "Epoch 8/9\n",
            "7185/7185 [==============================] - 34s 5ms/step - loss: 1.7119 - acc: 0.5393 - val_loss: 1.7236 - val_acc: 0.5370\n",
            "Epoch 9/9\n",
            "7185/7185 [==============================] - 34s 5ms/step - loss: 1.6684 - acc: 0.5548 - val_loss: 1.7398 - val_acc: 0.5403\n"
          ],
          "name": "stdout"
        }
      ]
    },
    {
      "cell_type": "markdown",
      "metadata": {
        "id": "uYa31-tpxwe_"
      },
      "source": [
        "LSTM model has achived a accuracy of  54% on validation data."
      ]
    },
    {
      "cell_type": "code",
      "metadata": {
        "colab": {
          "base_uri": "https://localhost:8080/"
        },
        "id": "6n4ciLsartsX",
        "outputId": "b46b7799-4828-49a6-e9e5-9e76d3f3a525"
      },
      "source": [
        "#evaluate model on test set\n",
        "test_loss, test_acc=model_LSTM.evaluate(x_test, one_hot_test_labels)\n",
        "print('Accuracy:', test_acc)"
      ],
      "execution_count": null,
      "outputs": [
        {
          "output_type": "stream",
          "text": [
            "2246/2246 [==============================] - 15s 7ms/step\n",
            "Accuracy: 0.551202118396759\n"
          ],
          "name": "stdout"
        }
      ]
    },
    {
      "cell_type": "markdown",
      "metadata": {
        "id": "6L_fiOAxx8yA"
      },
      "source": [
        "This model has achieved a 55% accuracy on test data. That is a 5% improvement over simple RNN."
      ]
    },
    {
      "cell_type": "code",
      "metadata": {
        "colab": {
          "base_uri": "https://localhost:8080/"
        },
        "id": "h2aT4VVQzoHW",
        "outputId": "768ff2e9-aae1-4966-bcd4-96e79a760a5c"
      },
      "source": [
        "# using GRU\n",
        "\n",
        "from keras.layers import GRU\n",
        "model_GRU = Sequential()\n",
        "model_GRU.add(Embedding(max_words, 32))\n",
        "model_GRU.add(layers.Dropout(0.5))\n",
        "model_GRU.add(GRU(32,return_sequences=True))\n",
        "model_GRU.add(GRU(32,return_sequences=True))\n",
        "model_GRU.add(GRU(32,return_sequences=True))\n",
        "model_GRU.add(GRU(32))\n",
        "model_GRU.add(layers.Dropout(0.5))\n",
        "model_GRU.add(Dense(46, activation='softmax'))\n",
        "\n",
        "\n",
        "\n",
        "model_GRU.compile(optimizer='rmsprop', loss='categorical_crossentropy', metrics=['acc'])\n",
        "model_GRU.summary()\n",
        "history_GRU = model_GRU.fit(\n",
        "    x_train, \n",
        "    one_hot_train_labels,\n",
        "    epochs=10,\n",
        "    batch_size=256,\n",
        "     validation_split=0.2\n",
        ")"
      ],
      "execution_count": null,
      "outputs": [
        {
          "output_type": "stream",
          "text": [
            "Model: \"sequential_9\"\n",
            "_________________________________________________________________\n",
            "Layer (type)                 Output Shape              Param #   \n",
            "=================================================================\n",
            "embedding_9 (Embedding)      (None, None, 32)          320000    \n",
            "_________________________________________________________________\n",
            "dropout_9 (Dropout)          (None, None, 32)          0         \n",
            "_________________________________________________________________\n",
            "gru_1 (GRU)                  (None, None, 32)          6240      \n",
            "_________________________________________________________________\n",
            "gru_2 (GRU)                  (None, None, 32)          6240      \n",
            "_________________________________________________________________\n",
            "gru_3 (GRU)                  (None, None, 32)          6240      \n",
            "_________________________________________________________________\n",
            "gru_4 (GRU)                  (None, 32)                6240      \n",
            "_________________________________________________________________\n",
            "dropout_10 (Dropout)         (None, 32)                0         \n",
            "_________________________________________________________________\n",
            "dense_15 (Dense)             (None, 46)                1518      \n",
            "=================================================================\n",
            "Total params: 346,478\n",
            "Trainable params: 346,478\n",
            "Non-trainable params: 0\n",
            "_________________________________________________________________\n",
            "Train on 7185 samples, validate on 1797 samples\n",
            "Epoch 1/10\n",
            "7185/7185 [==============================] - 44s 6ms/step - loss: 3.0175 - acc: 0.2970 - val_loss: 2.4784 - val_acc: 0.3528\n",
            "Epoch 2/10\n",
            "7185/7185 [==============================] - 42s 6ms/step - loss: 2.3831 - acc: 0.3591 - val_loss: 2.2326 - val_acc: 0.4485\n",
            "Epoch 3/10\n",
            "7185/7185 [==============================] - 42s 6ms/step - loss: 2.1957 - acc: 0.4025 - val_loss: 2.0590 - val_acc: 0.4725\n",
            "Epoch 4/10\n",
            "7185/7185 [==============================] - 42s 6ms/step - loss: 2.0368 - acc: 0.4522 - val_loss: 2.0943 - val_acc: 0.4713\n",
            "Epoch 5/10\n",
            "7185/7185 [==============================] - 42s 6ms/step - loss: 1.9470 - acc: 0.4796 - val_loss: 1.8722 - val_acc: 0.4858\n",
            "Epoch 6/10\n",
            "7185/7185 [==============================] - 42s 6ms/step - loss: 1.8972 - acc: 0.4850 - val_loss: 1.8282 - val_acc: 0.4953\n",
            "Epoch 7/10\n",
            "7185/7185 [==============================] - 42s 6ms/step - loss: 1.8267 - acc: 0.5042 - val_loss: 1.7847 - val_acc: 0.5086\n",
            "Epoch 8/10\n",
            "7185/7185 [==============================] - 42s 6ms/step - loss: 1.7586 - acc: 0.5215 - val_loss: 1.7935 - val_acc: 0.5303\n",
            "Epoch 9/10\n",
            "7185/7185 [==============================] - 42s 6ms/step - loss: 1.7266 - acc: 0.5265 - val_loss: 2.3052 - val_acc: 0.3918\n",
            "Epoch 10/10\n",
            "7185/7185 [==============================] - 42s 6ms/step - loss: 1.6950 - acc: 0.5378 - val_loss: 1.8928 - val_acc: 0.4691\n"
          ],
          "name": "stdout"
        }
      ]
    },
    {
      "cell_type": "code",
      "metadata": {
        "colab": {
          "base_uri": "https://localhost:8080/",
          "height": 545
        },
        "id": "96Qqc1mjzYkT",
        "outputId": "f32b2aa5-4bfa-44d4-9a92-244873dd9b00"
      },
      "source": [
        "acc = history_GRU.history['acc']\n",
        "val_acc = history_GRU.history['val_acc']\n",
        "loss = history_GRU.history['loss']\n",
        "val_loss = history_GRU.history['val_loss']\n",
        "\n",
        "epochs = range(len(acc))\n",
        "\n",
        "plt.plot(epochs, acc, 'bo', label='Training acc')\n",
        "plt.plot(epochs, val_acc, 'b', label='Validation acc')\n",
        "plt.title('Training and validation accuracy')\n",
        "plt.legend()\n",
        "\n",
        "plt.figure()\n",
        "\n",
        "plt.plot(epochs, loss, 'bo', label='Training loss')\n",
        "plt.plot(epochs, val_loss, 'b', label='Validation loss')\n",
        "plt.title('Training and validation loss')\n",
        "plt.legend()\n",
        "\n",
        "plt.show()"
      ],
      "execution_count": null,
      "outputs": [
        {
          "output_type": "display_data",
          "data": {
            "image/png": "[encoded data removed]",
            "text/plain": [
              "<Figure size 432x288 with 1 Axes>"
            ]
          },
          "metadata": {
            "tags": [],
            "needs_background": "light"
          }
        },
        {
          "output_type": "display_data",
          "data": {
            "image/png": "[encoded data removed]",
            "text/plain": [
              "<Figure size 432x288 with 1 Axes>"
            ]
          },
          "metadata": {
            "tags": [],
            "needs_background": "light"
          }
        }
      ]
    },
    {
      "cell_type": "code",
      "metadata": {
        "colab": {
          "base_uri": "https://localhost:8080/"
        },
        "id": "3S1lcHyJzzgJ",
        "outputId": "4734150d-676d-46ac-8428-ca83fe4b0c72"
      },
      "source": [
        "#Model starts to overfit after 8 epochs so chanhing epochs to 8 to avoid overfit\n",
        "# Final model using GRU\n",
        "\n",
        "from keras.layers import GRU\n",
        "model_GRU = Sequential()\n",
        "model_GRU.add(Embedding(max_words, 32))\n",
        "model_GRU.add(layers.Dropout(0.5))\n",
        "model_GRU.add(GRU(32,return_sequences=True))\n",
        "model_GRU.add(GRU(32,return_sequences=True))\n",
        "model_GRU.add(GRU(32,return_sequences=True))\n",
        "model_GRU.add(GRU(32))\n",
        "model_GRU.add(layers.Dropout(0.5))\n",
        "model_GRU.add(Dense(46, activation='softmax'))\n",
        "\n",
        "\n",
        "#epochs =8\n",
        "model_GRU.compile(optimizer='rmsprop', loss='categorical_crossentropy', metrics=['acc'])\n",
        "model_GRU.summary()\n",
        "history_GRU = model_GRU.fit(\n",
        "    x_train, \n",
        "    one_hot_train_labels,\n",
        "    epochs=8,\n",
        "    batch_size=256,\n",
        "     validation_split=0.2\n",
        ")"
      ],
      "execution_count": null,
      "outputs": [
        {
          "output_type": "stream",
          "text": [
            "Model: \"sequential_10\"\n",
            "_________________________________________________________________\n",
            "Layer (type)                 Output Shape              Param #   \n",
            "=================================================================\n",
            "embedding_10 (Embedding)     (None, None, 32)          320000    \n",
            "_________________________________________________________________\n",
            "dropout_11 (Dropout)         (None, None, 32)          0         \n",
            "_________________________________________________________________\n",
            "gru_5 (GRU)                  (None, None, 32)          6240      \n",
            "_________________________________________________________________\n",
            "gru_6 (GRU)                  (None, None, 32)          6240      \n",
            "_________________________________________________________________\n",
            "gru_7 (GRU)                  (None, None, 32)          6240      \n",
            "_________________________________________________________________\n",
            "gru_8 (GRU)                  (None, 32)                6240      \n",
            "_________________________________________________________________\n",
            "dropout_12 (Dropout)         (None, 32)                0         \n",
            "_________________________________________________________________\n",
            "dense_16 (Dense)             (None, 46)                1518      \n",
            "=================================================================\n",
            "Total params: 346,478\n",
            "Trainable params: 346,478\n",
            "Non-trainable params: 0\n",
            "_________________________________________________________________\n",
            "Train on 7185 samples, validate on 1797 samples\n",
            "Epoch 1/8\n",
            "7185/7185 [==============================] - 44s 6ms/step - loss: 2.9925 - acc: 0.3169 - val_loss: 2.3803 - val_acc: 0.3450\n",
            "Epoch 2/8\n",
            "7185/7185 [==============================] - 42s 6ms/step - loss: 2.3817 - acc: 0.3723 - val_loss: 2.2562 - val_acc: 0.4758\n",
            "Epoch 3/8\n",
            "7185/7185 [==============================] - 42s 6ms/step - loss: 2.1742 - acc: 0.4156 - val_loss: 2.0295 - val_acc: 0.3951\n",
            "Epoch 4/8\n",
            "7185/7185 [==============================] - 42s 6ms/step - loss: 2.0587 - acc: 0.4529 - val_loss: 1.9520 - val_acc: 0.4708\n",
            "Epoch 5/8\n",
            "7185/7185 [==============================] - 42s 6ms/step - loss: 1.9527 - acc: 0.4760 - val_loss: 1.8969 - val_acc: 0.4936\n",
            "Epoch 6/8\n",
            "7185/7185 [==============================] - 42s 6ms/step - loss: 1.8993 - acc: 0.4941 - val_loss: 1.8344 - val_acc: 0.5031\n",
            "Epoch 7/8\n",
            "7168/7185 [============================>.] - ETA: 0s - loss: 1.8734 - acc: 0.5035Epoch 8/8\n",
            "7185/7185 [==============================] - 42s 6ms/step - loss: 1.7733 - acc: 0.5235 - val_loss: 1.7595 - val_acc: 0.5159\n"
          ],
          "name": "stdout"
        }
      ]
    },
    {
      "cell_type": "code",
      "metadata": {
        "colab": {
          "base_uri": "https://localhost:8080/"
        },
        "id": "ZNiDbW6nyKn_",
        "outputId": "76f25c0c-d3c8-4ba1-cacc-97039f779b12"
      },
      "source": [
        "# Evaluate on test set\n",
        "test_loss, test_acc=model_GRU.evaluate(x_test, one_hot_test_labels)\n",
        "print('Accuracy:', test_acc)"
      ],
      "execution_count": null,
      "outputs": [
        {
          "output_type": "stream",
          "text": [
            "2246/2246 [==============================] - 19s 8ms/step\n",
            "Accuracy: 0.5178094506263733\n"
          ],
          "name": "stdout"
        }
      ]
    },
    {
      "cell_type": "markdown",
      "metadata": {
        "id": "PXjbVZ3f0Fqj"
      },
      "source": [
        "GRU Model has achieved a comparable accuracy(51.7%) on test set as of LSTM. . However , its accuracy is still better than simple RNN."
      ]
    },
    {
      "cell_type": "markdown",
      "metadata": {
        "id": "asCa299TUV7N"
      },
      "source": [
        "## Use a Pre-trained Word Embedding\n",
        "\n",
        "Instead of learning the word embedding layer from scratch,i will apply a pre-trained word embedding layer and only use the classification base for reuters data. Please refer to the [API](https://keras.io/examples/pretrained_word_embeddings/) for different pre-trained word embedding.\n",
        "\n",
        "Does the pre-trained word embedding help improve the model prediction?\n"
      ]
    },
    {
      "cell_type": "code",
      "metadata": {
        "colab": {
          "base_uri": "https://localhost:8080/"
        },
        "id": "auRhC8plIL1n",
        "outputId": "33b2ceae-1a3d-458c-8f13-241a088e332a"
      },
      "source": [
        "# download pre-trained GloVe embeddings\n",
        "!wget http://nlp.stanford.edu/data/glove.6B.zip\n",
        "!unzip -q glove.6B.zip"
      ],
      "execution_count": null,
      "outputs": [
        {
          "output_type": "stream",
          "text": [
            "--2021-06-02 00:56:38--  http://nlp.stanford.edu/data/glove.6B.zip\n",
            "Resolving nlp.stanford.edu (nlp.stanford.edu)... 171.64.67.140\n",
            "Connecting to nlp.stanford.edu (nlp.stanford.edu)|171.64.67.140|:80... connected.\n",
            "HTTP request sent, awaiting response... 302 Found\n",
            "Location: https://nlp.stanford.edu/data/glove.6B.zip [following]\n",
            "--2021-06-02 00:56:38--  https://nlp.stanford.edu/data/glove.6B.zip\n",
            "Connecting to nlp.stanford.edu (nlp.stanford.edu)|171.64.67.140|:443... connected.\n",
            "HTTP request sent, awaiting response... 301 Moved Permanently\n",
            "Location: http://downloads.cs.stanford.edu/nlp/data/glove.6B.zip [following]\n",
            "--2021-06-02 00:56:38--  http://downloads.cs.stanford.edu/nlp/data/glove.6B.zip\n",
            "Resolving downloads.cs.stanford.edu (downloads.cs.stanford.edu)... 171.64.64.22\n",
            "Connecting to downloads.cs.stanford.edu (downloads.cs.stanford.edu)|171.64.64.22|:80... connected.\n",
            "HTTP request sent, awaiting response... 200 OK\n",
            "Length: 862182613 (822M) [application/zip]\n",
            "Saving to: ‘glove.6B.zip’\n",
            "\n",
            "glove.6B.zip        100%[===================>] 822.24M  5.16MB/s    in 2m 40s  \n",
            "\n",
            "2021-06-02 00:59:17 (5.15 MB/s) - ‘glove.6B.zip’ saved [862182613/862182613]\n",
            "\n"
          ],
          "name": "stdout"
        }
      ]
    },
    {
      "cell_type": "code",
      "metadata": {
        "colab": {
          "base_uri": "https://localhost:8080/"
        },
        "id": "KF-GwTMpBEeV",
        "outputId": "96821757-357f-4bf2-f399-a92b1edd8beb"
      },
      "source": [
        "# Make a dict mapping words (strings) to their NumPy vector representation\n",
        "\n",
        "embeddings_index = dict()\n",
        "f = open('/content/glove.6B.100d.txt')\n",
        "\n",
        "\n",
        "for line in f:\n",
        "    values = line.split()\n",
        "    word = values[0]\n",
        "    coefs = np.asarray(values[1:], dtype='float32')\n",
        "    embeddings_index[word] = coefs\n",
        "\n",
        "f.close()\n",
        "print('Loaded %s word vectors.' % len(embeddings_index))"
      ],
      "execution_count": null,
      "outputs": [
        {
          "output_type": "stream",
          "text": [
            "Loaded 400000 word vectors.\n"
          ],
          "name": "stdout"
        }
      ]
    },
    {
      "cell_type": "code",
      "metadata": {
        "colab": {
          "base_uri": "https://localhost:8080/"
        },
        "id": "hqR5ZlXUOtI-",
        "outputId": "031cd7c0-beda-487b-94e0-315cf2e57477"
      },
      "source": [
        "#word_index\n",
        "vocab_size=len(word_index)+1\n",
        "vocab_size"
      ],
      "execution_count": null,
      "outputs": [
        {
          "output_type": "execute_result",
          "data": {
            "text/plain": [
              "30980"
            ]
          },
          "metadata": {
            "tags": []
          },
          "execution_count": 9
        }
      ]
    },
    {
      "cell_type": "code",
      "metadata": {
        "id": "GisXaU8bBNkQ"
      },
      "source": [
        "# create a weight matrix for words in training docs\n",
        "embedding_matrix = np.zeros((vocab_size, 100))\n",
        "\n",
        "for word, i in word_index.items():\n",
        "    embedding_vector = embeddings_index.get(word)\n",
        "    if embedding_vector is not None:\n",
        "        embedding_matrix[i] = embedding_vector\n"
      ],
      "execution_count": null,
      "outputs": []
    },
    {
      "cell_type": "code",
      "metadata": {
        "colab": {
          "base_uri": "https://localhost:8080/"
        },
        "id": "RsrFOYs2ScPd",
        "outputId": "b0f2a0ff-d059-4095-9542-9e127bff94aa"
      },
      "source": [
        "embedding_matrix[0:2]"
      ],
      "execution_count": null,
      "outputs": [
        {
          "output_type": "execute_result",
          "data": {
            "text/plain": [
              "array([[ 0.        ,  0.        ,  0.        ,  0.        ,  0.        ,\n",
              "         0.        ,  0.        ,  0.        ,  0.        ,  0.        ,\n",
              "         0.        ,  0.        ,  0.        ,  0.        ,  0.        ,\n",
              "         0.        ,  0.        ,  0.        ,  0.        ,  0.        ,\n",
              "         0.        ,  0.        ,  0.        ,  0.        ,  0.        ,\n",
              "         0.        ,  0.        ,  0.        ,  0.        ,  0.        ,\n",
              "         0.        ,  0.        ,  0.        ,  0.        ,  0.        ,\n",
              "         0.        ,  0.        ,  0.        ,  0.        ,  0.        ,\n",
              "         0.        ,  0.        ,  0.        ,  0.        ,  0.        ,\n",
              "         0.        ,  0.        ,  0.        ,  0.        ,  0.        ,\n",
              "         0.        ,  0.        ,  0.        ,  0.        ,  0.        ,\n",
              "         0.        ,  0.        ,  0.        ,  0.        ,  0.        ,\n",
              "         0.        ,  0.        ,  0.        ,  0.        ,  0.        ,\n",
              "         0.        ,  0.        ,  0.        ,  0.        ,  0.        ,\n",
              "         0.        ,  0.        ,  0.        ,  0.        ,  0.        ,\n",
              "         0.        ,  0.        ,  0.        ,  0.        ,  0.        ,\n",
              "         0.        ,  0.        ,  0.        ,  0.        ,  0.        ,\n",
              "         0.        ,  0.        ,  0.        ,  0.        ,  0.        ,\n",
              "         0.        ,  0.        ,  0.        ,  0.        ,  0.        ,\n",
              "         0.        ,  0.        ,  0.        ,  0.        ,  0.        ],\n",
              "       [-0.038194  , -0.24487001,  0.72812003, -0.39961001,  0.083172  ,\n",
              "         0.043953  , -0.39140999,  0.3344    , -0.57545   ,  0.087459  ,\n",
              "         0.28786999, -0.06731   ,  0.30906001, -0.26383999, -0.13231   ,\n",
              "        -0.20757   ,  0.33395001, -0.33848   , -0.31742999, -0.48335999,\n",
              "         0.1464    , -0.37303999,  0.34577   ,  0.052041  ,  0.44946   ,\n",
              "        -0.46970999,  0.02628   , -0.54154998, -0.15518001, -0.14106999,\n",
              "        -0.039722  ,  0.28277001,  0.14393   ,  0.23464   , -0.31020999,\n",
              "         0.086173  ,  0.20397   ,  0.52623999,  0.17163999, -0.082378  ,\n",
              "        -0.71787   , -0.41531   ,  0.20334999, -0.12763   ,  0.41367   ,\n",
              "         0.55186999,  0.57907999, -0.33476999, -0.36559001, -0.54856998,\n",
              "        -0.062892  ,  0.26583999,  0.30204999,  0.99774998, -0.80480999,\n",
              "        -3.0243001 ,  0.01254   , -0.36941999,  2.21670008,  0.72201002,\n",
              "        -0.24978   ,  0.92136002,  0.034514  ,  0.46744999,  1.10790002,\n",
              "        -0.19358   , -0.074575  ,  0.23353   , -0.052062  , -0.22044   ,\n",
              "         0.057162  , -0.15806   , -0.30798   , -0.41624999,  0.37972   ,\n",
              "         0.15006   , -0.53211999, -0.20550001, -1.25259995,  0.071624  ,\n",
              "         0.70564997,  0.49744001, -0.42063001,  0.26148   , -1.53799999,\n",
              "        -0.30223   , -0.073438  , -0.28312001,  0.37103999, -0.25217   ,\n",
              "         0.016215  , -0.017099  , -0.38984001,  0.87423998, -0.72569001,\n",
              "        -0.51058   , -0.52028   , -0.1459    ,  0.82779998,  0.27061999]])"
            ]
          },
          "metadata": {
            "tags": []
          },
          "execution_count": 11
        }
      ]
    },
    {
      "cell_type": "code",
      "metadata": {
        "id": "HpLrrlZWBRrE",
        "colab": {
          "base_uri": "https://localhost:8080/"
        },
        "outputId": "f22bd7ee-ed4d-4b22-8efb-67faeb48469b"
      },
      "source": [
        "#build the fully connected model using pre trained embedding layer\n",
        "from keras.layers import Dense, Embedding, SimpleRNN,Flatten\n",
        "from keras import layers\n",
        "model_pretrained=Sequential()\n",
        "\n",
        "#embedding layer\n",
        "model_pretrained.add(Embedding(vocab_size,100,weights=[embedding_matrix],input_length=500,trainable=False)) \n",
        "model_pretrained.add(layers.Dropout(0.5))\n",
        "model_pretrained.add(Flatten())\n",
        "\n",
        "# We add the classifier on top\n",
        "model_pretrained.add(layers.Dense(64, activation='relu', input_shape=(30983,)))\n",
        "model_pretrained.add(layers.Dense(64, activation='relu'))\n",
        "model_pretrained.add(Dense(46, activation='softmax'))\n",
        "model_pretrained.compile(optimizer='rmsprop', loss='categorical_crossentropy', metrics=['acc'])\n",
        "model_pretrained.summary()\n",
        "\n"
      ],
      "execution_count": null,
      "outputs": [
        {
          "output_type": "stream",
          "text": [
            "Model: \"sequential_4\"\n",
            "_________________________________________________________________\n",
            "Layer (type)                 Output Shape              Param #   \n",
            "=================================================================\n",
            "embedding_3 (Embedding)      (None, 500, 100)          3098000   \n",
            "_________________________________________________________________\n",
            "dropout_2 (Dropout)          (None, 500, 100)          0         \n",
            "_________________________________________________________________\n",
            "flatten_1 (Flatten)          (None, 50000)             0         \n",
            "_________________________________________________________________\n",
            "dense_1 (Dense)              (None, 64)                3200064   \n",
            "_________________________________________________________________\n",
            "dense_2 (Dense)              (None, 64)                4160      \n",
            "_________________________________________________________________\n",
            "dense_3 (Dense)              (None, 46)                2990      \n",
            "=================================================================\n",
            "Total params: 6,305,214\n",
            "Trainable params: 3,207,214\n",
            "Non-trainable params: 3,098,000\n",
            "_________________________________________________________________\n"
          ],
          "name": "stdout"
        }
      ]
    },
    {
      "cell_type": "code",
      "metadata": {
        "colab": {
          "base_uri": "https://localhost:8080/"
        },
        "id": "yxL7cTlsTOgd",
        "outputId": "5bc9c32b-6e29-49e3-8fa0-4cf5d361dc51"
      },
      "source": [
        "history_pretrained = model_pretrained.fit(\n",
        "    x_train, \n",
        "    one_hot_train_labels,\n",
        "    epochs=15,\n",
        "    batch_size=256,\n",
        "    validation_split=0.2\n",
        ")"
      ],
      "execution_count": null,
      "outputs": [
        {
          "output_type": "stream",
          "text": [
            "WARNING:tensorflow:From /tensorflow-1.15.2/python3.7/keras/backend/tensorflow_backend.py:422: The name tf.global_variables is deprecated. Please use tf.compat.v1.global_variables instead.\n",
            "\n",
            "Train on 7185 samples, validate on 1797 samples\n",
            "Epoch 1/15\n",
            "7185/7185 [==============================] - 2s 294us/step - loss: 2.6597 - acc: 0.3798 - val_loss: 2.1630 - val_acc: 0.4263\n",
            "Epoch 2/15\n",
            "7185/7185 [==============================] - 0s 42us/step - loss: 2.0174 - acc: 0.4803 - val_loss: 2.1241 - val_acc: 0.4357\n",
            "Epoch 3/15\n",
            "7185/7185 [==============================] - 0s 42us/step - loss: 1.8079 - acc: 0.5116 - val_loss: 2.1036 - val_acc: 0.4541\n",
            "Epoch 4/15\n",
            "7185/7185 [==============================] - 0s 41us/step - loss: 1.6026 - acc: 0.5606 - val_loss: 2.0921 - val_acc: 0.4541\n",
            "Epoch 5/15\n",
            "7185/7185 [==============================] - 0s 41us/step - loss: 1.4378 - acc: 0.6011 - val_loss: 2.4207 - val_acc: 0.4786\n",
            "Epoch 6/15\n",
            "7185/7185 [==============================] - 0s 40us/step - loss: 1.2744 - acc: 0.6507 - val_loss: 2.3401 - val_acc: 0.4290\n",
            "Epoch 7/15\n",
            "7185/7185 [==============================] - 0s 41us/step - loss: 1.1058 - acc: 0.6910 - val_loss: 2.6190 - val_acc: 0.4057\n",
            "Epoch 8/15\n",
            "7185/7185 [==============================] - 0s 39us/step - loss: 0.9878 - acc: 0.7229 - val_loss: 2.2951 - val_acc: 0.5042\n",
            "Epoch 9/15\n",
            "7185/7185 [==============================] - 0s 42us/step - loss: 0.8182 - acc: 0.7713 - val_loss: 2.3753 - val_acc: 0.5058\n",
            "Epoch 10/15\n",
            "7185/7185 [==============================] - 0s 41us/step - loss: 0.7342 - acc: 0.7872 - val_loss: 2.4008 - val_acc: 0.4719\n",
            "Epoch 11/15\n",
            "7185/7185 [==============================] - 0s 39us/step - loss: 0.6566 - acc: 0.8138 - val_loss: 3.0909 - val_acc: 0.3701\n",
            "Epoch 12/15\n",
            "7185/7185 [==============================] - 0s 39us/step - loss: 0.5375 - acc: 0.8509 - val_loss: 2.9335 - val_acc: 0.5036\n",
            "Epoch 13/15\n",
            "7185/7185 [==============================] - 0s 37us/step - loss: 0.4744 - acc: 0.8661 - val_loss: 2.5289 - val_acc: 0.5198\n",
            "Epoch 14/15\n",
            "7185/7185 [==============================] - 0s 39us/step - loss: 0.4522 - acc: 0.8697 - val_loss: 2.5752 - val_acc: 0.5209\n",
            "Epoch 15/15\n",
            "7185/7185 [==============================] - 0s 41us/step - loss: 0.3542 - acc: 0.9029 - val_loss: 3.1086 - val_acc: 0.4563\n"
          ],
          "name": "stdout"
        }
      ]
    },
    {
      "cell_type": "code",
      "metadata": {
        "colab": {
          "base_uri": "https://localhost:8080/"
        },
        "id": "tkY6rAUpTiH7",
        "outputId": "5c3ea3c1-6349-46d5-9d94-2b0b087a1b66"
      },
      "source": [
        "# model overfits after 8 epochs so changing epochs to 8 instead\n",
        "\n",
        "# final model\n",
        "model_pretrained=Sequential()\n",
        "\n",
        "#embedding layer\n",
        "model_pretrained.add(Embedding(vocab_size,100,weights=[embedding_matrix],input_length=500,trainable=False)) \n",
        "model_pretrained.add(layers.Dropout(0.5))\n",
        "model_pretrained.add(Flatten())\n",
        "\n",
        "# We add the classifier on top\n",
        "model_pretrained.add(layers.Dense(64, activation='relu', input_shape=(30983,)))\n",
        "model_pretrained.add(layers.Dense(64, activation='relu'))\n",
        "model_pretrained.add(Dense(46, activation='softmax'))\n",
        "model_pretrained.compile(optimizer='rmsprop', loss='categorical_crossentropy', metrics=['acc'])\n",
        "model_pretrained.summary()\n",
        "history_pretrained = model_pretrained.fit(\n",
        "    x_train, \n",
        "    one_hot_train_labels,\n",
        "    epochs=8,\n",
        "    batch_size=256,\n",
        "    validation_split=0.2\n",
        ")\n"
      ],
      "execution_count": null,
      "outputs": [
        {
          "output_type": "stream",
          "text": [
            "Model: \"sequential_6\"\n",
            "_________________________________________________________________\n",
            "Layer (type)                 Output Shape              Param #   \n",
            "=================================================================\n",
            "embedding_5 (Embedding)      (None, 500, 100)          3098000   \n",
            "_________________________________________________________________\n",
            "dropout_4 (Dropout)          (None, 500, 100)          0         \n",
            "_________________________________________________________________\n",
            "flatten_3 (Flatten)          (None, 50000)             0         \n",
            "_________________________________________________________________\n",
            "dense_7 (Dense)              (None, 64)                3200064   \n",
            "_________________________________________________________________\n",
            "dense_8 (Dense)              (None, 64)                4160      \n",
            "_________________________________________________________________\n",
            "dense_9 (Dense)              (None, 46)                2990      \n",
            "=================================================================\n",
            "Total params: 6,305,214\n",
            "Trainable params: 3,207,214\n",
            "Non-trainable params: 3,098,000\n",
            "_________________________________________________________________\n",
            "Train on 7185 samples, validate on 1797 samples\n",
            "Epoch 1/8\n",
            "7185/7185 [==============================] - 0s 60us/step - loss: 2.7742 - acc: 0.3705 - val_loss: 2.2175 - val_acc: 0.3996\n",
            "Epoch 2/8\n",
            "7185/7185 [==============================] - 0s 40us/step - loss: 2.0007 - acc: 0.4810 - val_loss: 2.1691 - val_acc: 0.4541\n",
            "Epoch 3/8\n",
            "7185/7185 [==============================] - 0s 43us/step - loss: 1.7792 - acc: 0.5226 - val_loss: 2.2211 - val_acc: 0.4307\n",
            "Epoch 4/8\n",
            "7185/7185 [==============================] - 0s 42us/step - loss: 1.5791 - acc: 0.5755 - val_loss: 2.0900 - val_acc: 0.4541\n",
            "Epoch 5/8\n",
            "7185/7185 [==============================] - 0s 41us/step - loss: 1.3772 - acc: 0.6310 - val_loss: 2.2716 - val_acc: 0.4368\n",
            "Epoch 6/8\n",
            "7185/7185 [==============================] - 0s 39us/step - loss: 1.2247 - acc: 0.6649 - val_loss: 2.1152 - val_acc: 0.4875\n",
            "Epoch 7/8\n",
            "7185/7185 [==============================] - 0s 41us/step - loss: 1.0675 - acc: 0.7127 - val_loss: 2.3243 - val_acc: 0.5003\n",
            "Epoch 8/8\n",
            "7185/7185 [==============================] - 0s 42us/step - loss: 0.9128 - acc: 0.7477 - val_loss: 2.2694 - val_acc: 0.5042\n"
          ],
          "name": "stdout"
        }
      ]
    },
    {
      "cell_type": "code",
      "metadata": {
        "colab": {
          "base_uri": "https://localhost:8080/"
        },
        "id": "rMML1CQhTYZM",
        "outputId": "580127ff-ca89-4100-db21-575cbad024ec"
      },
      "source": [
        "# Evaluate on test set\n",
        "test_loss, test_acc=model_pretrained.evaluate(x_test, one_hot_test_labels)\n",
        "print('Accuracy:', test_acc)"
      ],
      "execution_count": null,
      "outputs": [
        {
          "output_type": "stream",
          "text": [
            "2246/2246 [==============================] - 0s 74us/step\n",
            "Accuracy: 0.4902048110961914\n"
          ],
          "name": "stdout"
        }
      ]
    },
    {
      "cell_type": "markdown",
      "metadata": {
        "id": "RxGtTwhwdaAo"
      },
      "source": [
        "This model accuracy achieves an accuracy of 49% on test set even with a pretrained embedding layer."
      ]
    },
    {
      "cell_type": "code",
      "metadata": {
        "id": "svFx05PDaPdF"
      },
      "source": [
        "# try using cnn model with a pretrained embedding layer\n",
        "from tensorflow.keras.layers import Embedding\n",
        "\n",
        "embedding_layer = Embedding(\n",
        "    vocab_size,\n",
        "    100,\n",
        "    embeddings_initializer=keras.initializers.Constant(embedding_matrix),\n",
        "    trainable=False,\n",
        ")"
      ],
      "execution_count": null,
      "outputs": []
    },
    {
      "cell_type": "code",
      "metadata": {
        "colab": {
          "base_uri": "https://localhost:8080/"
        },
        "id": "CcVDXJsKaQZo",
        "outputId": "81eec9b3-b6b8-4d23-a7fb-5565618e00f3"
      },
      "source": [
        "#Build the model using Convolution 1D\n",
        "from tensorflow.keras import layers\n",
        "\n",
        "int_sequences_input = keras.Input(shape=(None,), dtype=\"int64\")\n",
        "embedded_sequences = embedding_layer(int_sequences_input)\n",
        "x = layers.Conv1D(128, 5, activation=\"relu\")(embedded_sequences)\n",
        "x = layers.MaxPooling1D(5)(x)\n",
        "x = layers.Conv1D(128, 5, activation=\"relu\")(x)\n",
        "x = layers.MaxPooling1D(5)(x)\n",
        "x = layers.Conv1D(128, 5, activation=\"relu\")(x)\n",
        "x = layers.GlobalMaxPooling1D()(x)\n",
        "x = layers.Dense(128, activation=\"relu\")(x)\n",
        "x = layers.Dropout(0.5)(x)\n",
        "preds = layers.Dense(46, activation=\"softmax\")(x)\n",
        "model_cnn = keras.Model(int_sequences_input, preds)\n",
        "model_cnn.summary()"
      ],
      "execution_count": null,
      "outputs": [
        {
          "output_type": "stream",
          "text": [
            "Model: \"model_9\"\n",
            "_________________________________________________________________\n",
            "Layer (type)                 Output Shape              Param #   \n",
            "=================================================================\n",
            "input_13 (InputLayer)        [(None, None)]            0         \n",
            "_________________________________________________________________\n",
            "embedding_9 (Embedding)      (None, None, 100)         3098000   \n",
            "_________________________________________________________________\n",
            "conv1d_30 (Conv1D)           (None, None, 128)         64128     \n",
            "_________________________________________________________________\n",
            "max_pooling1d_20 (MaxPooling (None, None, 128)         0         \n",
            "_________________________________________________________________\n",
            "conv1d_31 (Conv1D)           (None, None, 128)         82048     \n",
            "_________________________________________________________________\n",
            "max_pooling1d_21 (MaxPooling (None, None, 128)         0         \n",
            "_________________________________________________________________\n",
            "conv1d_32 (Conv1D)           (None, None, 128)         82048     \n",
            "_________________________________________________________________\n",
            "global_max_pooling1d_10 (Glo (None, 128)               0         \n",
            "_________________________________________________________________\n",
            "dense_19 (Dense)             (None, 128)               16512     \n",
            "_________________________________________________________________\n",
            "dropout_11 (Dropout)         (None, 128)               0         \n",
            "_________________________________________________________________\n",
            "dense_20 (Dense)             (None, 46)                5934      \n",
            "=================================================================\n",
            "Total params: 3,348,670\n",
            "Trainable params: 250,670\n",
            "Non-trainable params: 3,098,000\n",
            "_________________________________________________________________\n"
          ],
          "name": "stdout"
        }
      ]
    },
    {
      "cell_type": "code",
      "metadata": {
        "colab": {
          "base_uri": "https://localhost:8080/"
        },
        "id": "feDJkIbqa7l_",
        "outputId": "f2a59030-e9ed-4cce-ad0e-de1007148567"
      },
      "source": [
        "# compile the model\n",
        "model_cnn.compile(optimizer='rmsprop', loss='categorical_crossentropy', metrics=['acc'])\n",
        "model_cnn.summary()\n",
        "history_cnn= model_cnn.fit(\n",
        "    x_train, \n",
        "    one_hot_train_labels,\n",
        "    epochs=10,\n",
        "    batch_size=128,\n",
        "    validation_split=0.2\n",
        ")"
      ],
      "execution_count": null,
      "outputs": [
        {
          "output_type": "stream",
          "text": [
            "Model: \"model_9\"\n",
            "_________________________________________________________________\n",
            "Layer (type)                 Output Shape              Param #   \n",
            "=================================================================\n",
            "input_13 (InputLayer)        [(None, None)]            0         \n",
            "_________________________________________________________________\n",
            "embedding_9 (Embedding)      (None, None, 100)         3098000   \n",
            "_________________________________________________________________\n",
            "conv1d_30 (Conv1D)           (None, None, 128)         64128     \n",
            "_________________________________________________________________\n",
            "max_pooling1d_20 (MaxPooling (None, None, 128)         0         \n",
            "_________________________________________________________________\n",
            "conv1d_31 (Conv1D)           (None, None, 128)         82048     \n",
            "_________________________________________________________________\n",
            "max_pooling1d_21 (MaxPooling (None, None, 128)         0         \n",
            "_________________________________________________________________\n",
            "conv1d_32 (Conv1D)           (None, None, 128)         82048     \n",
            "_________________________________________________________________\n",
            "global_max_pooling1d_10 (Glo (None, 128)               0         \n",
            "_________________________________________________________________\n",
            "dense_19 (Dense)             (None, 128)               16512     \n",
            "_________________________________________________________________\n",
            "dropout_11 (Dropout)         (None, 128)               0         \n",
            "_________________________________________________________________\n",
            "dense_20 (Dense)             (None, 46)                5934      \n",
            "=================================================================\n",
            "Total params: 3,348,670\n",
            "Trainable params: 250,670\n",
            "Non-trainable params: 3,098,000\n",
            "_________________________________________________________________\n",
            "Train on 7185 samples, validate on 1797 samples\n",
            "Epoch 1/10\n",
            "7185/7185 [==============================] - 2s 234us/sample - loss: 2.3642 - acc: 0.4093 - val_loss: 1.9678 - val_acc: 0.4658\n",
            "Epoch 2/10\n",
            "7185/7185 [==============================] - 1s 133us/sample - loss: 2.0050 - acc: 0.4753 - val_loss: 1.8737 - val_acc: 0.5320\n",
            "Epoch 3/10\n",
            "7185/7185 [==============================] - 1s 124us/sample - loss: 1.8917 - acc: 0.5141 - val_loss: 1.8166 - val_acc: 0.5504\n",
            "Epoch 4/10\n",
            "7185/7185 [==============================] - 1s 128us/sample - loss: 1.7981 - acc: 0.5367 - val_loss: 2.3217 - val_acc: 0.4791\n",
            "Epoch 5/10\n",
            "7185/7185 [==============================] - 1s 126us/sample - loss: 1.7065 - acc: 0.5669 - val_loss: 1.7653 - val_acc: 0.5637\n",
            "Epoch 6/10\n",
            "7185/7185 [==============================] - 1s 127us/sample - loss: 1.6162 - acc: 0.5833 - val_loss: 1.6772 - val_acc: 0.5637\n",
            "Epoch 7/10\n",
            "7185/7185 [==============================] - 1s 126us/sample - loss: 1.5455 - acc: 0.6074 - val_loss: 1.7479 - val_acc: 0.5676\n",
            "Epoch 8/10\n",
            "7185/7185 [==============================] - 1s 121us/sample - loss: 1.4470 - acc: 0.6341 - val_loss: 1.7227 - val_acc: 0.5799\n",
            "Epoch 9/10\n",
            "7185/7185 [==============================] - 1s 129us/sample - loss: 1.3694 - acc: 0.6532 - val_loss: 1.5702 - val_acc: 0.6132\n",
            "Epoch 10/10\n",
            "7185/7185 [==============================] - 1s 125us/sample - loss: 1.2730 - acc: 0.6715 - val_loss: 1.5256 - val_acc: 0.6477\n"
          ],
          "name": "stdout"
        }
      ]
    },
    {
      "cell_type": "code",
      "metadata": {
        "colab": {
          "base_uri": "https://localhost:8080/"
        },
        "id": "XbvhlJ3AcHfL",
        "outputId": "e032d868-d820-4b9d-a613-fbebd1959383"
      },
      "source": [
        "# Evaluate on test set\n",
        "test_loss, test_acc=model_cnn.evaluate(x_test, one_hot_test_labels)\n",
        "print('Accuracy:', test_acc)"
      ],
      "execution_count": null,
      "outputs": [
        {
          "output_type": "stream",
          "text": [
            "2246/2246 [==============================] - 0s 144us/sample - loss: 1.5641 - acc: 0.6193\n",
            "Accuracy: 0.61932325\n"
          ],
          "name": "stdout"
        }
      ]
    },
    {
      "cell_type": "markdown",
      "metadata": {
        "id": "QNgFf2A9d0l7"
      },
      "source": [
        "CNN Model accuracy on test set is ~62% using pretrained embedding layer. This is 8% higher then what we had achieved using LSTM (54%). Therefore, we can deduce that the model performs better with the pretrained embedding layer."
      ]
    }
  ]
}